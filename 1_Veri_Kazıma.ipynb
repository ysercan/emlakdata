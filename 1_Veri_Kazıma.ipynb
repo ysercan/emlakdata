{
 "cells": [
  {
   "cell_type": "markdown",
   "metadata": {},
   "source": [
    "HACETTEPE ÜNİVERSİTESİ\n",
    "YAZILIM MÜHENDİSLİĞİ YÜKSEK LİSANS PROGRAMI\n",
    "DÖNEM PROJESİ BYZ695\n",
    "N21239069 - SERCAN YILDIRIM\n",
    "DOÇ.DR.AYDIN KAYA"
   ]
  },
  {
   "cell_type": "code",
   "execution_count": null,
   "metadata": {
    "scrolled": true
   },
   "outputs": [],
   "source": [
    "#!pip install selenium\n",
    "#!pip install webdrivermanager\n",
    "#!pip install webdriver-manager"
   ]
  },
  {
   "cell_type": "code",
   "execution_count": null,
   "metadata": {},
   "outputs": [],
   "source": [
    "from selenium import webdriver\n",
    "from selenium.webdriver.chrome.service import Service\n",
    "from selenium.webdriver.common.by import By\n",
    "from selenium.webdriver.chrome.options import Options\n",
    "import time\n",
    "import pandas as pd\n",
    "from selenium.webdriver.support.ui import WebDriverWait\n",
    "from selenium.webdriver.support import expected_conditions as EC\n",
    "from selenium.common.exceptions import ElementClickInterceptedException\n",
    "from selenium.webdriver.common.action_chains import ActionChains"
   ]
  },
  {
   "cell_type": "code",
   "execution_count": null,
   "metadata": {},
   "outputs": [],
   "source": [
    "# ChromeDriver yolu\n",
    "chrome_driver_path = \"C:\\\\Users\\Yldrm\\Desktop\\cromedriver\\chromedriver.exe\"  \n",
    "\n",
    "# Chrome seçenekleri\n",
    "chrome_options = Options()\n",
    "chrome_options.add_argument(\"--start-maximized\")  # Tarayıcıyı tam ekran başlat\n",
    "\n",
    "# ChromeDriver servisini başlatma\n",
    "service = Service(chrome_driver_path)\n",
    "driver = webdriver.Chrome(service=service, options=chrome_options)\n"
   ]
  },
  {
   "cell_type": "code",
   "execution_count": null,
   "metadata": {},
   "outputs": [],
   "source": [
    "# URL'ye erişim\n",
    "url = \"https://www.emlakjet.com/satilik-daire/ankara/49/\"\n",
    "driver.get(url)\n",
    "\n",
    "chrome_options.add_argument(\"--headless\")\n",
    "chrome_options.add_argument(\"--disable-gpu\")\n",
    "\n",
    "# Sayfanın yüklenmesi için kısa bir bekleme süresi\n",
    "driver.implicitly_wait(10)  # Sayfanın tamamen yüklenmesi için 10 saniye bekleme\n",
    "\n",
    "print(driver.title)\n"
   ]
  },
  {
   "cell_type": "code",
   "execution_count": null,
   "metadata": {},
   "outputs": [],
   "source": [
    "def listToString(s):  \n",
    "    str1 = \" \" \n",
    "    return (str1.join(s)) "
   ]
  },
  {
   "cell_type": "code",
   "execution_count": null,
   "metadata": {},
   "outputs": [],
   "source": [
    "driver.set_page_load_timeout(60)\n",
    "# Time-out hatalarını yönetebilmek için süresi uzatıldı"
   ]
  },
  {
   "cell_type": "code",
   "execution_count": null,
   "metadata": {},
   "outputs": [],
   "source": [
    "# İlan Sayfalarını dolaşabilmek için döngü yapıldı\n",
    "sf = 1 \n",
    "while sf <= 50:\n",
    "    # Sayfa içindeki ilanları dolaşabilmek için döngü yapıldı.\n",
    "    # ilk 9 sf 39 / 10 dan itibaren 35\n",
    "    il = 1\n",
    "    while il <= 35:\n",
    "        # Tıklanması istenmeyen reklamların indisleri liste yapıldı.\n",
    "        atlama_listesi = [3 , 8 , 9 , 11 , 14 , 18 , 25 , 26 , 33 , 40 ]\n",
    "        u = 0\n",
    "        while u < len(atlama_listesi):\n",
    "            if atlama_listesi[u] == il:\n",
    "                il = il+1\n",
    "                u=0\n",
    "            else:\n",
    "                u = u + 1 \n",
    "        \n",
    "        # Tıklanacak konumda üst üste açılan pencere-pop-up lar olduğunda\n",
    "        # hataya düşmemesi için eklendi. \n",
    "        try:\n",
    "            driver.implicitly_wait(20)\n",
    "            # xpath = f\"//*[@id='listing-search-wrapper']/div[{il}]\"\n",
    "            xpath = \"//*[@id='listing-search-wrapper']/div[\"+str(il)+\"]\"\n",
    "            tikla = WebDriverWait(driver, 10).until(\n",
    "                EC.presence_of_element_located((By.XPATH, xpath))                              \n",
    "             )\n",
    "            # tikla = driver.find_element(By.XPATH, \"//*[@id='listing-search-wrapper']/div[\"+str(il)+\"]\")\n",
    "            driver.execute_script(\"arguments[0].scrollIntoView(true);\", tikla)\n",
    "            driver.execute_script(\"window.scrollBy(0, -100);\") \n",
    "            driver.implicitly_wait(20)\n",
    "            tikla.click()                                                               \n",
    "            driver.implicitly_wait(10)\n",
    "        except ElementClickInterceptedException:\n",
    "            driver.implicitly_wait(20)\n",
    "            # overlapping_element xpath //*[@id=\"listing-search-wrapper\"]/div[1]/div\n",
    "            overlapping_element = driver.find_element(By.XPATH, \"//*[@id='listing-search-wrapper']/div[\"+ str(il)+\"]/div\")\n",
    "            driver.execute_script(\"arguments[0].style.visibility='hidden'\", overlapping_element)\n",
    "            driver.execute_script(\"arguments[0].scrollIntoView(true);\", tikla)\n",
    "            driver.execute_script(\"window.scrollBy(0, -150);\")\n",
    "            print( str(sf) + \" - \" + str(il) + \" excepte düştü.\")\n",
    "            tikla.click()\n",
    "            driver.implicitly_wait(10)\n",
    "            driver.execute_script(\"arguments[0].style.visibility='visible'\", overlapping_element)\n",
    "              \n",
    "        driver.implicitly_wait(10)\n",
    "        elements = driver.find_elements(By.CSS_SELECTOR, \"._3tH_Nw\") \n",
    "        driver.implicitly_wait(10)\n",
    "        fiyatlar = driver.find_elements(By.CSS_SELECTOR,\"._2TxNQv\")\n",
    "        detaylar = []\n",
    "        fiyat = []\n",
    "        for i in fiyatlar:\n",
    "            fiyat.append(i.text)\n",
    "        for k in elements:\n",
    "            detaylar.append(k.text)\n",
    "        det_str = listToString(detaylar)\n",
    "        ayrı = det_str.split(\"\\n\")\n",
    "        df = pd.DataFrame(ayrı)\n",
    "        df_yeni = df[:]\n",
    "        df_yeni = df_yeni.reset_index()\n",
    "        df_yeni.drop(\"index\", axis = 1, inplace = True)\n",
    "        df_liste = df_yeni.values.tolist()\n",
    "        içerikler =[]\n",
    "        l = 1\n",
    "        while l <= 27:\n",
    "            içerikler.append(df_liste[l])\n",
    "            l = l+2\n",
    "        fiyat_sade = fiyat[1].strip()\n",
    "        fiyat_sade = fiyat_sade.replace(\"TL\",\"\")\n",
    "        içerikler.append([fiyat_sade])\n",
    "        df_içerikler = pd.DataFrame(içerikler).T\n",
    "        df_içerikler.to_csv(r\"emlakjetveri.csv\",encoding=\"utf-8\",index=False, mode=\"a\",header=False)\n",
    "        il = il+1\n",
    "        driver.execute_script(\"window.history.go(-1)\")\n",
    "        driver.implicitly_wait(10)         \n",
    "    \n",
    "    driver.implicitly_wait(10)\n",
    "    sf = sf + 1\n",
    "    print(str(sf-1) +  \"  . sayfa tamamlandı\")\n",
    "    driver.get(\"https://www.emlakjet.com/satilik-daire/ankara/\"+str(sf)+\"/\")\n",
    "    driver.implicitly_wait(10)\n"
   ]
  },
  {
   "cell_type": "code",
   "execution_count": null,
   "metadata": {},
   "outputs": [],
   "source": [
    "print(str(sf-1) + \"Veri Toplama İşlemi Tamamlandı\")"
   ]
  }
 ],
 "metadata": {
  "kernelspec": {
   "display_name": "Python 3 (ipykernel)",
   "language": "python",
   "name": "python3"
  },
  "language_info": {
   "codemirror_mode": {
    "name": "ipython",
    "version": 3
   },
   "file_extension": ".py",
   "mimetype": "text/x-python",
   "name": "python",
   "nbconvert_exporter": "python",
   "pygments_lexer": "ipython3",
   "version": "3.11.7"
  }
 },
 "nbformat": 4,
 "nbformat_minor": 4
}
